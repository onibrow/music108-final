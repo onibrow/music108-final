{
 "cells": [
  {
   "cell_type": "markdown",
   "metadata": {},
   "source": [
    "# Music 108 Final\n",
    "## Seiya Ono Spring 20"
   ]
  },
  {
   "cell_type": "code",
   "execution_count": 1,
   "metadata": {},
   "outputs": [],
   "source": [
    "import wave, struct, math, random\n",
    "import soundfile as sf"
   ]
  },
  {
   "cell_type": "code",
   "execution_count": 2,
   "metadata": {},
   "outputs": [
    {
     "name": "stdout",
     "output_type": "stream",
     "text": [
      "Number of channels 2\n",
      "Sample width 3\n",
      "Frame rate. 44100\n",
      "Number of frames 309291\n",
      "parameters: _wave_params(nchannels=2, sampwidth=3, framerate=44100, nframes=309291, comptype='NONE', compname='not compressed')\n"
     ]
    }
   ],
   "source": [
    "obj = wave.open('audio_test.wav','r')\n",
    "print( \"Number of channels\",obj.getnchannels())\n",
    "print ( \"Sample width\",obj.getsampwidth())\n",
    "print ( \"Frame rate.\",obj.getframerate())\n",
    "print (\"Number of frames\",obj.getnframes())\n",
    "print ( \"parameters:\",obj.getparams())\n",
    "obj.close()"
   ]
  },
  {
   "cell_type": "code",
   "execution_count": 12,
   "metadata": {},
   "outputs": [
    {
     "name": "stdout",
     "output_type": "stream",
     "text": [
      "Number of channels 2\n",
      "Sample width 2\n",
      "Frame rate. 48000\n",
      "Number of frames 11812022\n",
      "parameters: _wave_params(nchannels=2, sampwidth=2, framerate=48000, nframes=11812022, comptype='NONE', compname='not compressed')\n"
     ]
    }
   ],
   "source": [
    "obj = wave.open('Pastel.wav','r')\n",
    "print( \"Number of channels\",obj.getnchannels())\n",
    "print ( \"Sample width\",obj.getsampwidth())\n",
    "print ( \"Frame rate.\",obj.getframerate())\n",
    "print (\"Number of frames\",obj.getnframes())\n",
    "print ( \"parameters:\",obj.getparams())\n",
    "obj.close()"
   ]
  }
 ],
 "metadata": {
  "kernelspec": {
   "display_name": "Python 3",
   "language": "python",
   "name": "python3"
  },
  "language_info": {
   "codemirror_mode": {
    "name": "ipython",
    "version": 3
   },
   "file_extension": ".py",
   "mimetype": "text/x-python",
   "name": "python",
   "nbconvert_exporter": "python",
   "pygments_lexer": "ipython3",
   "version": "3.8.2"
  }
 },
 "nbformat": 4,
 "nbformat_minor": 4
}
